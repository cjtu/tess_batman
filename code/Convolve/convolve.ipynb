{
 "cells": [
  {
   "cell_type": "code",
   "execution_count": 190,
   "metadata": {
    "scrolled": true
   },
   "outputs": [
    {
     "name": "stdout",
     "output_type": "stream",
     "text": [
      "===START TCONVOLVE===\n",
      "Reading TESS data...\n",
      "Found 2 TESS files to process\n",
      "Reading Batman transit curves...\n",
      "Found 2560 Batman curves\n",
      "Starting TESS file: HD_1397_b.fits\n",
      "Starting convolutions...\n",
      "Convolved 2560 curves in 1.21 s\n",
      "Found: 10 fitting curves\n",
      "Writing table: candidates_s0_b0_e2_HD_1397_b.fits.csv\n",
      "Finished TESS file in 1.22 s\n",
      "Starting TESS file: HD_202772_A_b.fits\n",
      "Starting convolutions...\n",
      "Convolved 2560 curves in 1.18 s\n",
      "Found: 10 fitting curves\n",
      "Writing table: candidates_s0_b0_e2_HD_202772_A_b.fits.csv\n",
      "Finished TESS file in 1.2 s\n",
      "Convolved 2/2 tess files with 2560 curves in 2.62 s\n",
      "===END TCONVOLVE===\n"
     ]
    }
   ],
   "source": [
    "\"\"\"\n",
    "Convole script:\n",
    "\n",
    "1) Read data from all 7 sectors\n",
    "2) Split up into chunks based on cmd line input\n",
    "3) Write partial results\n",
    "4) If time, make faster\n",
    "tess_dir=\"/home/ctaiudovicic/projects/tess_batman/sampleData/\"\n",
    "# tess_dir=\"/home/cjtu/projects/tess_batman/sampleData/\"\n",
    "batman_dir=\"/home/ctaiudovicic/projects/tess_batman/data/\"\n",
    "sector=0\n",
    "start=5\n",
    "end=15\n",
    "output_dir= \"/home/ctaiudovicic/projects/tess_batman/data/tmp/\"\n",
    "verbosity=0\n",
    "\"\"\"\n",
    "!python convolve.py ~/projects/tess_batman/sampleData/ ~/projects/tess_batman/data/ 0 0 2 ~/projects/tess_batman/data/tmp/"
   ]
  },
  {
   "cell_type": "code",
   "execution_count": 14,
   "metadata": {},
   "outputs": [],
   "source": [
    "import time\n",
    "import glob\n",
    "import os.path as p\n",
    "import multiprocessing as mp\n",
    "import numpy as np\n",
    "from scipy.signal import fftconvolve\n",
    "from astropy.io import ascii, fits\n",
    "from astropy.table import Table, Column\n",
    "\n",
    "def convolve(curves):\n",
    "    \"\"\"For parallel\"\"\"\n",
    "    peak_times = np.zeros(len(curves))\n",
    "    peak_convs = np.zeros(len(curves))\n",
    "    for i,curve in enumerate(curves):\n",
    "        batman_curve = batmanCurves[curve]\n",
    "        conv = np.abs(fftconvolve(tess_flux, batman_curve, 'same'))\n",
    "        ind_max = np.argmax(conv)\n",
    "        peak_times[i] = tess_time[ind_max]\n",
    "        peak_convs[i] = conv[idxs]\n",
    "\n",
    "    # Return top 10\n",
    "    idxs = peak_convs.argsort()[-10:]\n",
    "    return peak_times[idxs], peak_convs[idxs]\n",
    "\n",
    "\n",
    "def tconvolve(tess_dir, batman_dir, batman_suffix, sector, start, end, output_dir, nprocs, chunks, verbosity=0):\n",
    "    \"\"\"\n",
    "    \n",
    "    Parameters\n",
    "    ----------\n",
    "    tess_dir(str): directory to TESS data\n",
    "    batman_dir (str): directory to model data\n",
    "    batman_suffix(str): suffix to append to barmanCurves file (e.g. _small)\n",
    "    sector (int): sector to pull data from\n",
    "    start (int): file to start at\n",
    "    end (int): file to end at\n",
    "    output_dir (str): directory to write candidates.csv\n",
    "    \"\"\"\n",
    "    \n",
    "    tconv_start = time.time()\n",
    "    print(\"===START TCONVOLVE===\",flush=True)\n",
    "    \n",
    "    # Handle relative paths\n",
    "    tess_dir = p.abspath(tess_dir)\n",
    "    batman_dir = p.abspath(batman_dir)\n",
    "    output_dir = p.abspath(output_dir)\n",
    "    \n",
    "    # Read in TESS Sector data\n",
    "    print(\"Reading TESS data...\")\n",
    "    sector_name = \"Sector{}\".format(sector)\n",
    "    if sector == 0:\n",
    "        sector_name = \"sample_\"+sector_name\n",
    "    sector_path = p.join(tess_dir, sector_name)\n",
    "    sector_files = glob.glob(p.join(sector_path,\"*.fits\"))\n",
    "    tess_names = sector_files[start:end]\n",
    "    ntess = len(tess_names)\n",
    "    print(\"Found {} TESS files to process\".format(ntess),flush=True)\n",
    "\n",
    "    # Read in Batman Curves \n",
    "    print(\"Reading Batman transit curves...\")\n",
    "    batman_name = \"batmanCurves{}.csv\".format(batman_suffix)\n",
    "    print(batman_name)\n",
    "#     if sector == 0:\n",
    "#         batman_name = \"sample_\"+batman_name\n",
    "    batmanCurves = ascii.read(p.join(batman_dir,batman_name), \n",
    "                              data_start=1, format='csv')\n",
    "    times = np.array(batmanCurves['times'])\n",
    "    curve_names = np.array(batmanCurves.colnames[1:])\n",
    "    nbatman = len(curve_names)\n",
    "    print(\"Found {} Batman curves\".format(nbatman),flush=True)\n",
    "    \n",
    "    #Init dict for saving best batman curves \n",
    "    d = {key : [] for key in ['sector','tessFile','curveID','tcorr','correlation']}\n",
    "    s = 0\n",
    "    nerr = 0  # count number of failed files\n",
    "    # Do convolution on all tess files\n",
    "    for tind,tess_fpath in enumerate(tess_names):\n",
    "        tess_fname = p.basename(tess_fpath)\n",
    "        print(\"Starting TESS file: {}\".format(tess_fname),flush=True)\n",
    "        tess_start = time.time()\n",
    "\n",
    "        try:\n",
    "            with fits.open(tess_fpath, mode=\"readonly\") as hdulist:\n",
    "                hdr = hdulist[0].header\n",
    "                tess_time = hdulist[1].data['TIME']\n",
    "                tess_flux = hdulist[1].data['PDCSAP_FLUX']\n",
    "        except Exception as e: \n",
    "            print(\"ERROR reading file: \", tess_fpath, \" with error: \", e,flush=True)\n",
    "            nerr += 1\n",
    "            continue  # skip to next loop iter\n",
    "        \n",
    "        # clean tess lightcurve of nans\n",
    "        med = np.nanmedian(tess_flux)\n",
    "        tess_flux[np.isnan(tess_flux)] = med\n",
    "        \n",
    "        tmean = np.mean(tess_flux)\n",
    "        tstd = np.std(tess_flux)\n",
    "        tess_flux = (tess_flux - tmean)/tstd\n",
    "        \n",
    "        # PARALLEL\n",
    "       # chunk = 100\n",
    "       # chunks = [curve_names[i::chunk] for i in range(chunk)]\n",
    "       # pool = mp.Pool(processes=nprocs)\n",
    "       # peak_times, peak_convs = zip(*pool.map(convolve, chunks))\n",
    "\n",
    "        # SEQUENTIAL Do convolution on each batman curve\n",
    "        num_keep = 10\n",
    "        curves = [\"\"]*num_keep\n",
    "        times = np.zeros(num_keep)\n",
    "        convs = np.zeros(num_keep)\n",
    "        conv_start = time.time()\n",
    "        print(\"Starting convolutions...\",flush=True)\n",
    "        for curvename in curve_names:\n",
    "            # run convolution\n",
    "            # new way\n",
    "            batman_curve = batmanCurves[curvename]\n",
    "            conv = np.abs(fftconvolve(tess_flux, batman_curve, 'same'))\n",
    "            ind_max = np.argmax(conv)\n",
    "            conv_max = conv[ind_max]\n",
    "            # Only keep if in top 10\n",
    "            if conv_max > convs[-1]:\n",
    "                # insert in reverse sorted order\n",
    "                ind = np.searchsorted(-convs, -conv_max)\n",
    "                curves = curves[:ind] + [curvename] + curves[ind:-1]\n",
    "                times = np.insert(times, ind, tess_time[ind_max])[:-1]\n",
    "                convs = np.insert(convs, ind, conv_max)[:-1]\n",
    "\n",
    "        conv_time = time.time() - conv_start\n",
    "        print(\"Convolved {} curves in {:.3} s\".format(nbatman, conv_time),flush=True)\n",
    "        \n",
    "        # Save this TESS curve's best batman curves to dict\n",
    "        d['sector'].extend([sector_name]*num_keep)\n",
    "        d['tessFile'].extend([tess_fname]*num_keep)\n",
    "        d['curveID'].extend(curves)\n",
    "        d['tcorr'].extend(times)\n",
    "        d['correlation'].extend(convs)\n",
    "    outname = 'candidates_test.csv'\n",
    "    outpath = p.join(output_dir, outname)\n",
    "    # Convert to astropy table and write to csv\n",
    "    candidates = Table(d,names=['sector','tessFile','curveID','tcorr','correlation'])\n",
    "    ascii.write(candidates, outpath, format='csv', overwrite=True, comment='#')\n",
    "    print(\"Wrote file {} at {} s\".format(outname,time.time()-tess_start),flush=True)\n",
    "        # Make table every 100 tess curves\n",
    "#         if (tind % 10 == 0) or (tind == len(tess_names)-1):\n",
    "#             e = start+tind\n",
    "#             outname = 'candidates_sector{}_s{}_e{}.csv'.format(sector, s, e)\n",
    "#             outpath = p.join(output_dir, outname)\n",
    "#             # Convert to astropy table and write to csv\n",
    "#             candidates = Table(d,names=['sector','tessFile','curveID','tcorr','correlation'])\n",
    "#             ascii.write(candidates, outpath, format='csv', overwrite=True, comment='#')\n",
    "#             print(\"Wrote file {} at {} s\".format(outname,time.time()-tess_start),flush=True)\n",
    "#             # reset dicts\n",
    "#             d = {key : [] for key in ['sector','tessFile','curveID','tcorr','correlation']}\n",
    "#             columnDict = {}\n",
    "#             s=e+1\n",
    "\n",
    "    tconv_time = time.time() - tconv_start\n",
    "    print(\"Convolved {}/{} tess files with {} curves in {:.3} s\".format(ntess-nerr, ntess, nbatman, tconv_time),flush=True)\n",
    "    print(\"===END TCONVOLVE===\",flush=True)"
   ]
  },
  {
   "cell_type": "code",
   "execution_count": 55,
   "metadata": {
    "scrolled": true
   },
   "outputs": [
    {
     "name": "stdout",
     "output_type": "stream",
     "text": [
      "===START TCONVOLVE===\n",
      "Reading TESS data...\n",
      "Found 5 TESS files to process\n",
      "Reading Batman transit curves...\n",
      "batmanCurves_big.csv\n",
      "Found 256000 Batman curves\n",
      "Starting TESS file: tess2018263035959-s0003-0000000003836541-0123-s_lc.fits\n",
      "Starting convolutions...\n",
      "Convolved 256000 curves in 2.98e+02 s\n",
      "Starting TESS file: tess2018349182459-s0006-0000000404768847-0126-s_lc.fits\n",
      "Starting convolutions...\n",
      "Convolved 256000 curves in 2.7e+02 s\n",
      "Starting TESS file: HD_1397_b.fits\n",
      "Starting convolutions...\n",
      "Convolved 256000 curves in 2.81e+02 s\n",
      "Starting TESS file: tess2018349182459-s0006-0000000200319843-0126-s_lc.fits\n",
      "Starting convolutions...\n",
      "Convolved 256000 curves in 2.71e+02 s\n",
      "Starting TESS file: tess2018349182459-s0006-0000000404768604-0126-s_lc.fits\n",
      "Starting convolutions...\n",
      "Convolved 256000 curves in 2.77e+02 s\n",
      "Wrote file candidates_test.csv at 277.2886219024658 s\n",
      "Convolved 5/5 tess files with 256000 curves in 1.52e+03 s\n",
      "===END TCONVOLVE===\n"
     ]
    }
   ],
   "source": [
    "# Paths\n",
    "P = \"/common/contrib/classroom/ast520/tess_batman\"\n",
    "tess_dir = P +\"/sampleData\"\n",
    "batman_dir = P + \"/data\"\n",
    "output_dir = P + \"/data/tmp\"\n",
    "batman_suffix = \"_big\"\n",
    "\n",
    "\n",
    "# Convolve params\n",
    "sector=0\n",
    "start=5\n",
    "end=15\n",
    "verbosity=0\n",
    "nprocs = 0\n",
    "chunks = end-start\n",
    "tconvolve(tess_dir, batman_dir, batman_suffix, sector, start, end, output_dir, nprocs, chunks, verbosity=0)\n"
   ]
  },
  {
   "cell_type": "code",
   "execution_count": null,
   "metadata": {},
   "outputs": [],
   "source": []
  },
  {
   "cell_type": "code",
   "execution_count": null,
   "metadata": {},
   "outputs": [],
   "source": [
    "\"\"\" Peak finder\n",
    "# find convolution peaks above 99%\n",
    "pct = np.percentile(conv, 99)\n",
    "peak_idxs, cprops = sp.signal.find_peaks(conv, height=pct)\n",
    "peak_time.append(tess_time[peak_idxs])\n",
    "peak_conv.append(conv[peak_idxs])\n",
    "peak_ind = np.argmax(peak_conv[-1])\n",
    "peak_max.append(conv[peak_ind])\n",
    "#  print(\"Pct:\",pct, \"Count:\",len(peaks))\n",
    "\"\"\""
   ]
  },
  {
   "cell_type": "code",
   "execution_count": 21,
   "metadata": {},
   "outputs": [
    {
     "ename": "NameError",
     "evalue": "name 'n' is not defined",
     "output_type": "error",
     "traceback": [
      "\u001b[0;31m---------------------------------------------------------------------------\u001b[0m",
      "\u001b[0;31mNameError\u001b[0m                                 Traceback (most recent call last)",
      "\u001b[0;32m<ipython-input-21-684ac419f095>\u001b[0m in \u001b[0;36m<module>\u001b[0;34m\u001b[0m\n\u001b[1;32m      1\u001b[0m \u001b[0;32mimport\u001b[0m \u001b[0mmatplotlib\u001b[0m\u001b[0;34m.\u001b[0m\u001b[0mpyplot\u001b[0m \u001b[0;32mas\u001b[0m \u001b[0mplt\u001b[0m\u001b[0;34m\u001b[0m\u001b[0;34m\u001b[0m\u001b[0m\n\u001b[1;32m      2\u001b[0m \u001b[0;31m# plt.plot(np.concatenate((arr[::-1],arr)))\u001b[0m\u001b[0;34m\u001b[0m\u001b[0;34m\u001b[0m\u001b[0;34m\u001b[0m\u001b[0m\n\u001b[0;32m----> 3\u001b[0;31m \u001b[0mplt\u001b[0m\u001b[0;34m.\u001b[0m\u001b[0mplot\u001b[0m\u001b[0;34m(\u001b[0m\u001b[0mn\u001b[0m\u001b[0;34m)\u001b[0m\u001b[0;34m\u001b[0m\u001b[0;34m\u001b[0m\u001b[0m\n\u001b[0m",
      "\u001b[0;31mNameError\u001b[0m: name 'n' is not defined"
     ]
    }
   ],
   "source": [
    "import matplotlib.pyplot as plt\n",
    "# plt.plot(np.concatenate((arr[::-1],arr)))\n",
    "plt.plot(n)"
   ]
  },
  {
   "cell_type": "code",
   "execution_count": 57,
   "metadata": {},
   "outputs": [
    {
     "data": {
      "text/plain": [
       "[<matplotlib.lines.Line2D at 0x7fe97003fe10>]"
      ]
     },
     "execution_count": 57,
     "metadata": {},
     "output_type": "execute_result"
    },
    {
     "data": {
      "image/png": "[encoded data removed]",
      "text/plain": [
       "<Figure size 432x288 with 1 Axes>"
      ]
     },
     "metadata": {
      "needs_background": "light"
     },
     "output_type": "display_data"
    }
   ],
   "source": [
    "plt.plot(o*10)"
   ]
  },
  {
   "cell_type": "code",
   "execution_count": 52,
   "metadata": {},
   "outputs": [
    {
     "name": "stdout",
     "output_type": "stream",
     "text": [
      "Reading TESS data...\n",
      "Found 5 TESS files to process\n",
      "Reading Batman transit curves...\n",
      "Found 2560 Batman curves\n",
      "Starting TESS file: tess2018263035959-s0003-0000000003836541-0123-s_lc.fits\n",
      "Starting convolutions...\n",
      "curve 150, Convolution: 133.0316048006697\n"
     ]
    }
   ],
   "source": [
    "# Read in TESS Sector data\n",
    "print(\"Reading TESS data...\")\n",
    "sector_name = \"Sector{}\".format(sector)\n",
    "if sector == 0:\n",
    "    sector_name = \"sample_\"+sector_name\n",
    "sector_path = p.join(tess_dir, sector_name)\n",
    "sector_files = glob.glob(p.join(sector_path,\"*.fits\"))\n",
    "tess_names = sector_files[start:end]\n",
    "ntess = len(tess_names)\n",
    "print(\"Found {} TESS files to process\".format(ntess))\n",
    "\n",
    "# Read in Batman Curves \n",
    "print(\"Reading Batman transit curves...\")\n",
    "batmanCurves = ascii.read(p.join(batman_dir,\"batmanCurves_small.csv\"), \n",
    "                   data_start=1, format='csv')\n",
    "times = np.array(batmanCurves['times'])\n",
    "curve_names = np.array(batmanCurves.colnames[1:])\n",
    "nbatman = len(curve_names)\n",
    "print(\"Found {} Batman curves\".format(nbatman))\n",
    "\n",
    "nerr = 0  # count number of failed files\n",
    "# Do convolution on all tess files\n",
    "tess_fpath = tess_names[0]\n",
    "tess_fname = p.basename(tess_fpath)\n",
    "print(\"Starting TESS file: {}\".format(tess_fname))\n",
    "tess_start = time.time()\n",
    "\n",
    "try:\n",
    "    with fits.open(tess_fpath, mode=\"readonly\") as hdulist:\n",
    "        hdr = hdulist[0].header\n",
    "        tess_time = hdulist[1].data['TIME']\n",
    "        tess_flux = hdulist[1].data['PDCSAP_FLUX']\n",
    "except Exception as e: \n",
    "    print(\"ERROR reading file: \", tess_fpath, \" with error: \", e)\n",
    "    nerr += 1\n",
    "    #continue  # skip to next loop iter\n",
    "\n",
    "# clean tess lightcurve of nans\n",
    "med = np.nanmedian(tess_flux)\n",
    "tess_flux[np.isnan(tess_flux)] = med\n",
    "\n",
    "tmean = np.mean(tess_flux)\n",
    "tstd = np.std(tess_flux)\n",
    "tess_flux = (tess_flux - tmean)/tstd\n",
    "# Do convolution on each batman curve\n",
    "max_array=np.zeros(nbatman)\n",
    "tmax_array=np.zeros(nbatman)\n",
    "conv_start = time.time()\n",
    "print(\"Starting convolutions...\")\n",
    "j = 150\n",
    "curvename = curve_names[j]\n",
    "batman_flux = batmanCurves[curvename]\n",
    "convolution = np.abs(np.convolve(tess_flux, batman_flux, 'same'))\n",
    "ind_max = np.argmax(convolution)\n",
    "conv_max = convolution[ind_max]\n",
    "label = \"{}, Convolution: {}\".format(curvename, conv_max)\n",
    "print(label)"
   ]
  },
  {
   "cell_type": "code",
   "execution_count": 28,
   "metadata": {},
   "outputs": [],
   "source": [
    "batman_flux_nopad = batmanCurves[curvename]\n",
    "len_diff = len(tess_time)-len(batman_flux_nopad)\n",
    "batman_flux = np.pad(batman_flux_nopad, (len_diff, 0), 'constant', constant_values=(1,1))      \n",
    "batman_FFT=np.fft.fft(batman_flux)\n",
    "tess_FFT=np.fft.fft(tess_flux)\n",
    "convolution2=(np.absolute(np.fft.ifft((batman_FFT)*(tess_FFT))))"
   ]
  },
  {
   "cell_type": "code",
   "execution_count": 53,
   "metadata": {
    "scrolled": true
   },
   "outputs": [
    {
     "data": {
      "text/plain": [
       "Text(0.5, 1.0, 'curve 150, Convolution: 133.0316048006697')"
      ]
     },
     "execution_count": 53,
     "metadata": {},
     "output_type": "execute_result"
    },
    {
     "data": {
      "image/png": "[encoded data removed]",
      "text/plain": [
       "<Figure size 864x288 with 2 Axes>"
      ]
     },
     "metadata": {
      "needs_background": "light"
     },
     "output_type": "display_data"
    }
   ],
   "source": [
    "fix, ax = plt.subplots(2, sharex=True, figsize=(12, 4))\n",
    "ax[0].plot(tess_time,tess_flux, 'b+')\n",
    "ax[1].plot(tess_time,convolution, 'r+')\n",
    "plt.title(label)"
   ]
  },
  {
   "cell_type": "code",
   "execution_count": 37,
   "metadata": {},
   "outputs": [
    {
     "data": {
      "text/plain": [
       "Text(0.5, 1.0, 'curve 1, Convolution: 131.32612690588854')"
      ]
     },
     "execution_count": 37,
     "metadata": {},
     "output_type": "execute_result"
    },
    {
     "data": {
      "image/png": "[encoded data removed]",
      "text/plain": [
       "<Figure size 432x288 with 1 Axes>"
      ]
     },
     "metadata": {
      "needs_background": "light"
     },
     "output_type": "display_data"
    }
   ],
   "source": [
    "plt.plot(tess_time,convolution, 'b+')\n"
   ]
  },
  {
   "cell_type": "code",
   "execution_count": 26,
   "metadata": {},
   "outputs": [
    {
     "name": "stdout",
     "output_type": "stream",
     "text": [
      "Pct: 119.31523032314423 Count: 66\n"
     ]
    },
    {
     "data": {
      "text/plain": [
       "[<matplotlib.lines.Line2D at 0x7fd9175f6dd8>]"
      ]
     },
     "execution_count": 26,
     "metadata": {},
     "output_type": "execute_result"
    },
    {
     "data": {
      "image/png": "[encoded data removed]",
      "text/plain": [
       "<Figure size 432x288 with 1 Axes>"
      ]
     },
     "metadata": {
      "needs_background": "light"
     },
     "output_type": "display_data"
    }
   ],
   "source": [
    "import scipy as sp\n",
    "pct=np.percentile(convolution, 99)\n",
    "peaks,props=sp.signal.find_peaks(convolution,height=pct)\n",
    "print(\"Pct:\",pct, \"Count:\",len(peaks))\n",
    "plt.plot(tess_time,convolution, 'b+')\n",
    "plt.plot(tess_time[peaks],convolution[peaks], 'ro')"
   ]
  },
  {
   "cell_type": "code",
   "execution_count": 184,
   "metadata": {},
   "outputs": [
    {
     "name": "stdout",
     "output_type": "stream",
     "text": [
      "[1, 2, 3]\n"
     ]
    }
   ],
   "source": [
    "a = [1,2,3]\n",
    "print(a[:1000])"
   ]
  }
 ],
 "metadata": {
  "kernelspec": {
   "display_name": "Python 3",
   "language": "python",
   "name": "python3"
  },
  "language_info": {
   "codemirror_mode": {
    "name": "ipython",
    "version": 3
   },
   "file_extension": ".py",
   "mimetype": "text/x-python",
   "name": "python",
   "nbconvert_exporter": "python",
   "pygments_lexer": "ipython3",
   "version": "3.7.3"
  }
 },
 "nbformat": 4,
 "nbformat_minor": 2
}
