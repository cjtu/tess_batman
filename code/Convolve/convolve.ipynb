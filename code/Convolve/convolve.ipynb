{
 "cells": [
  {
   "cell_type": "code",
   "execution_count": 190,
   "metadata": {},
   "outputs": [
    {
     "name": "stdout",
     "output_type": "stream",
     "text": [
      "===START TCONVOLVE===\n",
      "Reading TESS data...\n",
      "Found 2 TESS files to process\n",
      "Reading Batman transit curves...\n",
      "Found 2560 Batman curves\n",
      "Starting TESS file: HD_1397_b.fits\n",
      "Starting convolutions...\n",
      "Convolved 2560 curves in 1.21 s\n",
      "Found: 10 fitting curves\n",
      "Writing table: candidates_s0_b0_e2_HD_1397_b.fits.csv\n",
      "Finished TESS file in 1.22 s\n",
      "Starting TESS file: HD_202772_A_b.fits\n",
      "Starting convolutions...\n",
      "Convolved 2560 curves in 1.18 s\n",
      "Found: 10 fitting curves\n",
      "Writing table: candidates_s0_b0_e2_HD_202772_A_b.fits.csv\n",
      "Finished TESS file in 1.2 s\n",
      "Convolved 2/2 tess files with 2560 curves in 2.62 s\n",
      "===END TCONVOLVE===\n"
     ]
    }
   ],
   "source": [
    "\"\"\"\n",
    "Convole script:\n",
    "\n",
    "1) Read data from all 7 sectors\n",
    "2) Split up into chunks based on cmd line input\n",
    "3) Write partial results\n",
    "4) If time, make faster\n",
    "tess_dir=\"/home/ctaiudovicic/projects/tess_batman/sampleData/\"\n",
    "# tess_dir=\"/home/cjtu/projects/tess_batman/sampleData/\"\n",
    "batman_dir=\"/home/ctaiudovicic/projects/tess_batman/data/\"\n",
    "sector=0\n",
    "start=5\n",
    "end=15\n",
    "output_dir= \"/home/ctaiudovicic/projects/tess_batman/data/tmp/\"\n",
    "verbosity=0\n",
    "\"\"\"\n",
    "!python convolve.py ~/projects/tess_batman/sampleData/ ~/projects/tess_batman/data/ 0 0 2 ~/projects/tess_batman/data/tmp/"
   ]
  },
  {
   "cell_type": "code",
   "execution_count": 182,
   "metadata": {},
   "outputs": [],
   "source": [
    "import time\n",
    "import glob\n",
    "import os.path as p\n",
    "import numpy as np\n",
    "from scipy.signal import fftconvolve\n",
    "from astropy.io import ascii, fits\n",
    "from astropy.table import Table, Column\n",
    "\n",
    "\n",
    "def tconvolve(tess_dir, batman_dir, sector, start, end, output_dir, verbosity=0):\n",
    "    \"\"\"\n",
    "    \n",
    "    Parameters\n",
    "    ----------\n",
    "    tess_dir(str): directory to TESS data\n",
    "    batman_dir (str): directory to model data\n",
    "    sector (int): sector to pull data from\n",
    "    start (int): file to start at\n",
    "    end (int): file to end at\n",
    "    output_dir (str): directory to write candidates.csv\n",
    "    \"\"\"\n",
    "    tconv_start = time.time()\n",
    "    print(\"===START TCONVOLVE===\")\n",
    "    \n",
    "    # Handle relative paths\n",
    "    tess_dir = p.abspath(tess_dir)\n",
    "    batman_dir = p.abspath(batman_dir)\n",
    "    output_dir = p.abspath(output_dir)\n",
    "    \n",
    "    # Read in TESS Sector data\n",
    "    print(\"Reading TESS data...\")\n",
    "    sector_name = \"Sector{}\".format(sector)\n",
    "    if sector == 0:\n",
    "        sector_name = \"sample_\"+sector_name\n",
    "    sector_path = p.join(tess_dir, sector_name)\n",
    "    sector_files = glob.glob(p.join(sector_path,\"*.fits\"))\n",
    "    tess_names = sector_files[start:end]\n",
    "    ntess = len(tess_names)\n",
    "    print(\"Found {} TESS files to process\".format(ntess))\n",
    "\n",
    "    # Read in Batman Curves \n",
    "    print(\"Reading Batman transit curves...\")\n",
    "    batmanCurves = ascii.read(p.join(batman_dir,\"batmanCurves_small.csv\"), \n",
    "                       data_start=1, format='csv')\n",
    "    times = np.array(batmanCurves['times'])\n",
    "    curve_names = np.array(batmanCurves.colnames[1:])\n",
    "    nbatman = len(curve_names)\n",
    "    print(\"Found {} Batman curves\".format(nbatman))\n",
    "    \n",
    "    nerr = 0  # count number of failed files\n",
    "    # Do convolution on all tess files\n",
    "    for tess_fpath in tess_names:\n",
    "        tess_fname = p.basename(tess_fpath)\n",
    "        print(\"Starting TESS file: {}\".format(tess_fname))\n",
    "        tess_start = time.time()\n",
    "\n",
    "        try:\n",
    "            with fits.open(tess_fpath, mode=\"readonly\") as hdulist:\n",
    "                hdr = hdulist[0].header\n",
    "                tess_time = hdulist[1].data['TIME']\n",
    "                tess_flux = hdulist[1].data['PDCSAP_FLUX']\n",
    "        except Exception as e: \n",
    "            print(\"ERROR reading file: \", tess_fpath, \" with error: \", e)\n",
    "            nerr += 1\n",
    "            continue  # skip to next loop iter\n",
    "        \n",
    "        # clean tess lightcurve of nans\n",
    "        med = np.nanmedian(tess_flux)\n",
    "        tess_flux[np.isnan(tess_flux)] = med\n",
    "        \n",
    "        tmean = np.mean(tess_flux)\n",
    "        tstd = np.std(tess_flux)\n",
    "        tess_flux = (tess_flux - tmean)/tstd\n",
    "        \n",
    "        # Do convolution on each batman curve\n",
    "        peak_times = np.zeros(nbatman)\n",
    "        peak_convs = np.zeros(nbatman)\n",
    "        conv_start = time.time()\n",
    "        print(\"Starting convolutions...\")\n",
    "        for i, curvename in enumerate(curve_names):\n",
    "            # run convolution\n",
    "            # new way\n",
    "            batman_curve = batmanCurves[curvename]\n",
    "            conv = np.abs(fftconvolve(tess_flux, batman_curve, 'same'))\n",
    "            ind_max = np.argmax(convolution)\n",
    "            peak_times[i] = tess_time[ind_max]\n",
    "            peak_convs[i] = conv[ind_max]\n",
    "                                  \n",
    "\n",
    "\n",
    "        conv_time = time.time() - conv_start\n",
    "        print(\"Convolved {} curves in {:.3} s\".format(nbatman, conv_time))\n",
    "        \n",
    "        # Keep 10 best curves\n",
    "        idxs = peak_convs.argsort()[-10:]\n",
    "        convs = peak_convs[idxs]\n",
    "        times = peak_times[idxs]\n",
    "        curves = curve_names[idxs]\n",
    "        nfitcurves = len(curves)\n",
    "        print(\"Found: {} fitting curves\".format(nfitcurves))\n",
    "        \n",
    "        # Make table\n",
    "        if nfitcurves > 0:\n",
    "            outname = 'candidates_s{}_b{}_e{}_{}.csv'.format(sector,start,end,tess_fname)\n",
    "            outpath = p.join(output_dir, outname)\n",
    "            print(\"Writing table: {}\".format(outname))\n",
    "            candidates = Table()\n",
    "            candidates.add_column(Column([sector_name]*nfitcurves), name=\"sector\")\n",
    "            candidates.add_column(Column([tess_fname]*nfitcurves), name=\"tessFile\")\n",
    "            candidates.add_column(Column(curves), name=\"curveID\")\n",
    "            candidates.add_column(Column(times), name=\"tcorr\")\n",
    "            candidates.add_column(Column(convs), name=\"correlation\")\n",
    "\n",
    "            ascii.write(candidates, outpath, format='csv', overwrite=True, comment='#')\n",
    "            tess_time = time.time() - tess_start\n",
    "        else:\n",
    "            print(\"No curves found for {}, Skipping write...\".format(tess_fname))\n",
    "        print(\"Finished TESS file in {:.3} s\".format(tess_time))\n",
    "    \n",
    "    tconv_time = time.time() - tconv_start\n",
    "    print(\"Convolved {}/{} tess files and {} curves in {:.3} s\".format(ntess-nerr, ntess, nbatman, tconv_time))\n",
    "    print(\"===END TCONVOLVE===\")\n",
    "    \n",
    "def main():\n",
    "    import argparse\n",
    "    parser = argparse.ArgumentParser()\n",
    "    parser.add_argument(\"tess_dir\", type=str)\n",
    "    parser.add_argument(\"batman_dir\", type=str)\n",
    "    parser.add_argument(\"sector\", type=int)\n",
    "    parser.add_argument(\"start\", type=int)\n",
    "    parser.add_argument(\"end\", type=int)\n",
    "    parser.add_argument(\"output_dir\", type=str)\n",
    "    parser.add_argument(\"-v\", \"--verbosity\", default=False, \n",
    "                        action=\"store_true\", help=\"Print console output\")\n",
    "    args = parser.parse_args()\n",
    "    tconvolve(args.tess_dir, args.batman_dir, args.sector, args.start, \n",
    "          args.end, args.output_dir, args.verbosity)\n",
    "          \n",
    "# if __name__ == '__main__':\n",
    "#     main()"
   ]
  },
  {
   "cell_type": "code",
   "execution_count": 183,
   "metadata": {
    "scrolled": true
   },
   "outputs": [
    {
     "name": "stdout",
     "output_type": "stream",
     "text": [
      "===START TCONVOLVE===\n",
      "Reading TESS data...\n",
      "Found 5 TESS files to process\n",
      "Reading Batman transit curves...\n",
      "Found 2560 Batman curves\n",
      "Starting TESS file: tess2018263035959-s0003-0000000003836541-0123-s_lc.fits\n",
      "Starting convolutions...\n",
      "Convolved 2560 curves in 1.29 s\n",
      "convs\n",
      "Found: 10 fitting curves\n",
      "Writing table: candidates_s0_b5_e15_tess2018263035959-s0003-0000000003836541-0123-s_lc.fits.csv\n",
      "Finished tess file in 1.31 s\n",
      "Starting TESS file: tess2018263035959-s0003-0000000003957254-0123-s_lc.fits\n",
      "Starting convolutions...\n",
      "Convolved 2560 curves in 1.25 s\n",
      "convs\n",
      "Found: 10 fitting curves\n",
      "Writing table: candidates_s0_b5_e15_tess2018263035959-s0003-0000000003957254-0123-s_lc.fits.csv\n",
      "Finished tess file in 1.27 s\n",
      "Starting TESS file: tess2018349182459-s0006-0000000200319843-0126-s_lc.fits\n",
      "Starting convolutions...\n",
      "Convolved 2560 curves in 1.01 s\n",
      "convs\n",
      "Found: 10 fitting curves\n",
      "Writing table: candidates_s0_b5_e15_tess2018349182459-s0006-0000000200319843-0126-s_lc.fits.csv\n",
      "Finished tess file in 1.02 s\n",
      "Starting TESS file: tess2018349182459-s0006-0000000404768604-0126-s_lc.fits\n",
      "Starting convolutions...\n",
      "Convolved 2560 curves in 1.01 s\n",
      "convs\n",
      "Found: 10 fitting curves\n",
      "Writing table: candidates_s0_b5_e15_tess2018349182459-s0006-0000000404768604-0126-s_lc.fits.csv\n",
      "Finished tess file in 1.03 s\n",
      "Starting TESS file: tess2018349182459-s0006-0000000404768847-0126-s_lc.fits\n",
      "Starting convolutions...\n",
      "Convolved 2560 curves in 1.03 s\n",
      "convs\n",
      "Found: 10 fitting curves\n",
      "Writing table: candidates_s0_b5_e15_tess2018349182459-s0006-0000000404768847-0126-s_lc.fits.csv\n",
      "Finished tess file in 1.05 s\n",
      "Convolved 5/5 tess files and 2560 curves in 5.88 s\n",
      "===END TCONVOLVE===\n"
     ]
    }
   ],
   "source": [
    "tess_dir=\"/home/ctaiudovicic/projects/tess_batman/sampleData/\"\n",
    "# tess_dir=\"/home/cjtu/projects/tess_batman/sampleData/\"\n",
    "batman_dir=\"/home/ctaiudovicic/projects/tess_batman/data/\"\n",
    "sector=0\n",
    "start=5\n",
    "end=15\n",
    "output_dir= \"/home/ctaiudovicic/projects/tess_batman/data/tmp/\"\n",
    "verbosity=0\n",
    "tconvolve(tess_dir,batman_dir, sector, start, end, output_dir, verbosity=0)\n"
   ]
  },
  {
   "cell_type": "code",
   "execution_count": null,
   "metadata": {},
   "outputs": [],
   "source": [
    "\"\"\" Peak finder\n",
    "# find convolution peaks above 99%\n",
    "pct = np.percentile(conv, 99)\n",
    "peak_idxs, cprops = sp.signal.find_peaks(conv, height=pct)\n",
    "peak_time.append(tess_time[peak_idxs])\n",
    "peak_conv.append(conv[peak_idxs])\n",
    "peak_ind = np.argmax(peak_conv[-1])\n",
    "peak_max.append(conv[peak_ind])\n",
    "#  print(\"Pct:\",pct, \"Count:\",len(peaks))\n",
    "\"\"\""
   ]
  },
  {
   "cell_type": "code",
   "execution_count": 56,
   "metadata": {},
   "outputs": [
    {
     "data": {
      "text/plain": [
       "[<matplotlib.lines.Line2D at 0x7fe963bc1518>]"
      ]
     },
     "execution_count": 56,
     "metadata": {},
     "output_type": "execute_result"
    },
    {
     "data": {
      "image/png": "[encoded data removed]",
      "text/plain": [
       "<Figure size 432x288 with 1 Axes>"
      ]
     },
     "metadata": {
      "needs_background": "light"
     },
     "output_type": "display_data"
    }
   ],
   "source": [
    "import matplotlib.pyplot as plt\n",
    "# plt.plot(np.concatenate((arr[::-1],arr)))\n",
    "plt.plot(n)"
   ]
  },
  {
   "cell_type": "code",
   "execution_count": 57,
   "metadata": {},
   "outputs": [
    {
     "data": {
      "text/plain": [
       "[<matplotlib.lines.Line2D at 0x7fe97003fe10>]"
      ]
     },
     "execution_count": 57,
     "metadata": {},
     "output_type": "execute_result"
    },
    {
     "data": {
      "image/png": "[encoded data removed]",
      "text/plain": [
       "<Figure size 432x288 with 1 Axes>"
      ]
     },
     "metadata": {
      "needs_background": "light"
     },
     "output_type": "display_data"
    }
   ],
   "source": [
    "plt.plot(o*10)"
   ]
  },
  {
   "cell_type": "code",
   "execution_count": 62,
   "metadata": {},
   "outputs": [
    {
     "name": "stdout",
     "output_type": "stream",
     "text": [
      "Reading TESS data...\n",
      "Found 10 TESS files to process\n",
      "Reading Batman transit curves...\n",
      "Found 2560 Batman curves\n",
      "Starting TESS file: HD_1397_b.fits\n",
      "Starting convolutions...\n"
     ]
    }
   ],
   "source": [
    "# Read in TESS Sector data\n",
    "print(\"Reading TESS data...\")\n",
    "sector_name = \"Sector{}\".format(sector)\n",
    "if sector == 0:\n",
    "    sector_name = \"sample_\"+sector_name\n",
    "sector_path = p.join(tess_dir, sector_name)\n",
    "sector_files = glob.glob(p.join(sector_path,\"*.fits\"))\n",
    "tess_names = sector_files[start:end]\n",
    "ntess = len(tess_names)\n",
    "print(\"Found {} TESS files to process\".format(ntess))\n",
    "\n",
    "# Read in Batman Curves \n",
    "print(\"Reading Batman transit curves...\")\n",
    "batmanCurves = ascii.read(p.join(batman_dir,\"batmanCurves_small.csv\"), \n",
    "                   data_start=1, format='csv')\n",
    "times = np.array(batmanCurves['times'])\n",
    "curve_names = np.array(batmanCurves.colnames[1:])\n",
    "nbatman = len(curve_names)\n",
    "print(\"Found {} Batman curves\".format(nbatman))\n",
    "\n",
    "nerr = 0  # count number of failed files\n",
    "# Do convolution on all tess files\n",
    "tess_fpath = tess_names[0]\n",
    "tess_fname = p.basename(tess_fpath)\n",
    "print(\"Starting TESS file: {}\".format(tess_fname))\n",
    "tess_start = time.time()\n",
    "\n",
    "try:\n",
    "    with fits.open(tess_fpath, mode=\"readonly\") as hdulist:\n",
    "        hdr = hdulist[0].header\n",
    "        tess_time = hdulist[1].data['TIME']\n",
    "        tess_flux = hdulist[1].data['PDCSAP_FLUX']\n",
    "except Exception as e: \n",
    "    print(\"ERROR reading file: \", tess_fpath, \" with error: \", e)\n",
    "    nerr += 1\n",
    "    #continue  # skip to next loop iter\n",
    "\n",
    "# clean tess lightcurve of nans\n",
    "med = np.nanmedian(tess_flux)\n",
    "tess_flux[np.isnan(tess_flux)] = med\n",
    "\n",
    "tmean = np.mean(tess_flux)\n",
    "tstd = np.std(tess_flux)\n",
    "tess_flux = (tess_flux - tmean)/tstd\n",
    "# Do convolution on each batman curve\n",
    "max_array=np.zeros(nbatman)\n",
    "tmax_array=np.zeros(nbatman)\n",
    "conv_start = time.time()\n",
    "print(\"Starting convolutions...\")\n",
    "j = 0\n",
    "curvename = curve_names[0]\n",
    "\n",
    "batman_flux = batmanCurves[curvename]\n",
    "convolution = np.abs(np.convolve(tess_flux, batman_flux, 'same'))"
   ]
  },
  {
   "cell_type": "code",
   "execution_count": 64,
   "metadata": {},
   "outputs": [],
   "source": [
    "batman_flux_nopad = batmanCurves[curvename]\n",
    "len_diff = len(tess_time)-len(batman_flux_nopad)\n",
    "batman_flux = np.pad(batman_flux_nopad, (len_diff, 0), 'constant', constant_values=(1,1))      \n",
    "batman_FFT=np.fft.fft(batman_flux)\n",
    "tess_FFT=np.fft.fft(tess_flux)\n",
    "convolution2=(np.absolute(np.fft.ifft((batman_FFT)*(tess_FFT))))"
   ]
  },
  {
   "cell_type": "code",
   "execution_count": 10,
   "metadata": {
    "scrolled": true
   },
   "outputs": [
    {
     "data": {
      "text/plain": [
       "[<matplotlib.lines.Line2D at 0x7fe97190b6a0>]"
      ]
     },
     "execution_count": 10,
     "metadata": {},
     "output_type": "execute_result"
    },
    {
     "data": {
      "image/png": "[encoded data removed]",
      "text/plain": [
       "<Figure size 432x288 with 1 Axes>"
      ]
     },
     "metadata": {
      "needs_background": "light"
     },
     "output_type": "display_data"
    }
   ],
   "source": [
    "plt.plot(tess_time,tess_flux, 'b+')"
   ]
  },
  {
   "cell_type": "code",
   "execution_count": 67,
   "metadata": {},
   "outputs": [
    {
     "data": {
      "text/plain": [
       "[<matplotlib.lines.Line2D at 0x7fe970db1ac8>]"
      ]
     },
     "execution_count": 67,
     "metadata": {},
     "output_type": "execute_result"
    },
    {
     "data": {
      "image/png": "[encoded data removed]",
      "text/plain": [
       "<Figure size 432x288 with 1 Axes>"
      ]
     },
     "metadata": {
      "needs_background": "light"
     },
     "output_type": "display_data"
    }
   ],
   "source": [
    "plt.plot(tess_time,convolution, 'b+')\n"
   ]
  },
  {
   "cell_type": "code",
   "execution_count": 66,
   "metadata": {},
   "outputs": [
    {
     "data": {
      "text/plain": [
       "[<matplotlib.lines.Line2D at 0x7fe9711272e8>]"
      ]
     },
     "execution_count": 66,
     "metadata": {},
     "output_type": "execute_result"
    },
    {
     "data": {
      "image/png": "[encoded data removed]",
      "text/plain": [
       "<Figure size 432x288 with 1 Axes>"
      ]
     },
     "metadata": {
      "needs_background": "light"
     },
     "output_type": "display_data"
    }
   ],
   "source": [
    "plt.plot(tess_time,convolution2, 'r+')"
   ]
  },
  {
   "cell_type": "code",
   "execution_count": 27,
   "metadata": {},
   "outputs": [],
   "source": [
    "import scipy as sp\n"
   ]
  },
  {
   "cell_type": "code",
   "execution_count": 37,
   "metadata": {},
   "outputs": [
    {
     "name": "stdout",
     "output_type": "stream",
     "text": [
      "Pct: 1064.259000340717 Count: 39\n"
     ]
    },
    {
     "data": {
      "text/plain": [
       "[<matplotlib.lines.Line2D at 0x7fe97155a320>]"
      ]
     },
     "execution_count": 37,
     "metadata": {},
     "output_type": "execute_result"
    },
    {
     "data": {
      "image/png": "[encoded data removed]",
      "text/plain": [
       "<Figure size 432x288 with 1 Axes>"
      ]
     },
     "metadata": {
      "needs_background": "light"
     },
     "output_type": "display_data"
    }
   ],
   "source": [
    "pct=np.percentile(convolution, 99)\n",
    "peaks,props=sp.signal.find_peaks(convolution,height=pct)\n",
    "print(\"Pct:\",pct, \"Count:\",len(peaks))\n",
    "plt.plot(tess_time,convolution, 'b+')\n",
    "plt.plot(tess_time[peaks],convolution[peaks], 'ro')"
   ]
  },
  {
   "cell_type": "code",
   "execution_count": 184,
   "metadata": {},
   "outputs": [
    {
     "name": "stdout",
     "output_type": "stream",
     "text": [
      "[1, 2, 3]\n"
     ]
    }
   ],
   "source": [
    "a = [1,2,3]\n",
    "print(a[:1000])"
   ]
  }
 ],
 "metadata": {
  "kernelspec": {
   "display_name": "Python 3",
   "language": "python",
   "name": "python3"
  },
  "language_info": {
   "codemirror_mode": {
    "name": "ipython",
    "version": 3
   },
   "file_extension": ".py",
   "mimetype": "text/x-python",
   "name": "python",
   "nbconvert_exporter": "python",
   "pygments_lexer": "ipython3",
   "version": "3.7.1"
  }
 },
 "nbformat": 4,
 "nbformat_minor": 2
}
