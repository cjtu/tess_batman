{
 "cells": [
  {
   "cell_type": "code",
   "execution_count": null,
   "metadata": {},
   "outputs": [],
   "source": [
    "\"\"\"\n",
    "Convole script:\n",
    "\n",
    "1) Read data from all 7 sectors\n",
    "2) Split up into chunks based on cmd line input\n",
    "3) Write partial results\n",
    "4) If time, make faster\n",
    "\n",
    "\n",
    "\n",
    "\"\"\""
   ]
  },
  {
   "cell_type": "code",
   "execution_count": 149,
   "metadata": {},
   "outputs": [],
   "source": [
    "import numpy as np\n",
    "from scipy.stats import norm\n",
    "from scipy.signal import fftconvolve\n",
    "from astropy.io import fits\n",
    "from astropy.io import ascii\n",
    "from astropy.table import Table, Column\n",
    "import time\n",
    "import glob\n",
    "import os.path as p\n",
    "\n",
    "def tconvolve(tess_dir,batman_dir, sector, start, end, output_dir, verbosity=0):\n",
    "    \"\"\"\n",
    "    \n",
    "    Parameters\n",
    "    ----------\n",
    "    tess_dir(str): directory to TESS data\n",
    "    batman_dir (str): directory to model data\n",
    "    sector (int): sector to pull data from\n",
    "    start (int): file to start at\n",
    "    end (int): file to end at\n",
    "    output_dir (str): directory to write candidates.csv\n",
    "    \"\"\"\n",
    "    tconv_start = time.time()\n",
    "    print(\"===START TCONVOLVE===\")\n",
    "    \n",
    "    # Read in TESS Sector data\n",
    "    print(\"Reading TESS data...\")\n",
    "    sector_name = \"Sector{}\".format(sector)\n",
    "    if sector == 0:\n",
    "        sector_name = \"sample_\"+sector_name\n",
    "    sector_path = p.join(tess_dir, sector_name)\n",
    "    sector_files = glob.glob(p.join(sector_path,\"*.fits\"))\n",
    "    tess_names = sector_files[start:end]\n",
    "    ntess = len(tess_names)\n",
    "    print(\"Found {} TESS files to process\".format(ntess))\n",
    "\n",
    "    # Read in Batman Curves \n",
    "    print(\"Reading Batman transit curves...\")\n",
    "    batmanCurves = ascii.read(p.join(batman_dir,\"batmanCurves_small.csv\"), \n",
    "                       data_start=1, format='csv')\n",
    "    times = np.array(batmanCurves['times'])\n",
    "    curve_names = np.array(batmanCurves.colnames[1:])\n",
    "    nbatman = len(curve_names)\n",
    "    print(\"Found {} Batman curves\".format(nbatman))\n",
    "    \n",
    "    nerr = 0  # count number of failed files\n",
    "    # Do convolution on all tess files\n",
    "    for tess_fpath in tess_names:\n",
    "        tess_fname = p.basename(tess_fpath)\n",
    "        print(\"Starting TESS file: {}\".format(tess_fname))\n",
    "        tess_start = time.time()\n",
    "\n",
    "        try:\n",
    "            with fits.open(tess_fpath, mode=\"readonly\") as hdulist:\n",
    "                hdr = hdulist[0].header\n",
    "                tess_time = hdulist[1].data['TIME']\n",
    "                tess_flux = hdulist[1].data['PDCSAP_FLUX']\n",
    "        except Exception as e: \n",
    "            print(\"ERROR reading file: \", tess_fpath, \" with error: \", e)\n",
    "            nerr += 1\n",
    "            continue  # skip to next loop iter\n",
    "        \n",
    "        # clean tess lightcurve of nans\n",
    "        med = np.nanmedian(tess_flux)\n",
    "        tess_flux[np.isnan(tess_flux)] = med\n",
    "        \n",
    "        tmean = np.mean(tess_flux)\n",
    "        tstd = np.std(tess_flux)\n",
    "        tess_flux = (tess_flux - tmean)/tstd\n",
    "        \n",
    "        # Do convolution on each batman curve\n",
    "        max_array=np.zeros(nbatman)\n",
    "        tmax_array=np.zeros(nbatman)\n",
    "        conv_start = time.time()\n",
    "        print(\"Starting convolutions...\")\n",
    "        for j, curvename in enumerate(curve_names):\n",
    "            # make batman same len at tess\n",
    "            batman_curve = batmanCurves[curvename]\n",
    "#             batman_flux_nopad = batmanCurves[curvename]\n",
    "#             len_diff = len(tess_time)-len(batman_flux_nopad)\n",
    "#             batman_flux = np.pad(batman_flux_nopad, (len_diff, 0), 'constant', constant_values=(1,1))\n",
    "            \n",
    "            # run convolution\n",
    "            convolution = fftconvolve(tess_flux, batman_curve, 'same')\n",
    "#             batman_FFT=np.fft.fft(batman_flux)\n",
    "#             tess_FFT=np.fft.fft(tess_flux)\n",
    "#             convolution=(np.absolute(np.fft.ifft((batman_FFT)*(tess_FFT))))\n",
    "            \n",
    "            # Save max conv value and time\n",
    "            ind_max = np.argmin(convolution)\n",
    "            tmax_array[j] = tess_time[ind_max]\n",
    "            max_array[j] = convolution[ind_max]\n",
    "        conv_time = time.time() - conv_start\n",
    "        print(\"Convolved {} curves in {:.3} s\".format(nbatman, conv_time))\n",
    "        \n",
    "        # Keep best curves\n",
    "        print(max_array)\n",
    "        return max_array\n",
    "        mu, std = norm.fit(max_array)\n",
    "        print(mu, std)\n",
    "        idxs = np.where(max_array >= mu+3*std)\n",
    "        print(idxs)\n",
    "        convs = max_array[idxs]\n",
    "        times = tmax_array[idxs]\n",
    "        curves = curve_names[idxs]\n",
    "        nfitcurves = len(curves)\n",
    "        print(\"Found: {} fitting curves\".format(nfitcurves))\n",
    "        \n",
    "\n",
    "        # Make table\n",
    "        outname = 'candidates_s{}_b{}_e{}_{}.csv'.format(sector,start,end,tess_fname)\n",
    "        outpath = p.join(output_dir, outname)\n",
    "        print(\"Writing table: {}\".format(outname))\n",
    "        candidates = Table()\n",
    "        candidates.add_column(Column([sector_name]*nfitcurves), name=\"sector\")\n",
    "        candidates.add_column(Column([tess_fname]*nfitcurves), name=\"tessFile\")\n",
    "        candidates.add_column(Column(curves), name=\"curveID\")\n",
    "        candidates.add_column(Column(times), name=\"tcorr\")\n",
    "        candidates.add_column(Column(convs), name=\"correlation\")\n",
    "        \n",
    "        ascii.write(candidates, outpath, format='csv', overwrite=True, comment='#')\n",
    "        tess_time = time.time() - tess_start\n",
    "        print(\"Finished tess file in {:.3} s\".format(tess_time))\n",
    "    \n",
    "    tconv_time = time.time() - tconv_start\n",
    "    print(\"Convolved {}/{} tess files and {} curves in {:.3} s\".format(ntess-nerr, ntess, nbatman, tconv_time))\n",
    "    print(\"===END TCONVOLVE===\")\n",
    "    \n",
    "def main():\n",
    "    import argparse\n",
    "    parser = argparse.ArgumentParser()\n",
    "    parser.add_argument(\"tess_dir\", type=str)\n",
    "    parser.add_argument(\"batman_dir\", type=str)\n",
    "    parser.add_argument(\"sector\", type=int)\n",
    "    parser.add_argument(\"start\", type=int)\n",
    "    parser.add_argument(\"end\", type=int)\n",
    "    parser.add_argument(\"output_dir\", type=str)\n",
    "    parser.add_argument(\"-v\", \"--verbosity\", default=False, \n",
    "                        action=\"store_true\", help=\"Print console output\")\n",
    "    args = parser.parse_args()\n",
    "    tconvolve(args.tess_dir, args.batman_dir, args.sector, args.start, \n",
    "          args.end, args.output_dir, args.verbosity)\n",
    "          \n",
    "# if __name__ == '__main__':\n",
    "#     main()"
   ]
  },
  {
   "cell_type": "code",
   "execution_count": 150,
   "metadata": {},
   "outputs": [
    {
     "name": "stdout",
     "output_type": "stream",
     "text": [
      "===START TCONVOLVE===\n",
      "Reading TESS data...\n",
      "Found 10 TESS files to process\n",
      "Reading Batman transit curves...\n",
      "Found 2560 Batman curves\n",
      "Starting TESS file: HD_1397_b.fits\n",
      "Starting convolutions...\n",
      "Convolved 2560 curves in 1.27 s\n",
      "[41391831.37049121 41397485.52127567 41414831.36034053 ...\n",
      " 41918525.16276349 41918525.16276349 41918525.16276351]\n",
      "41909849.197456144 39060.642338070684\n",
      "(array([], dtype=int64),)\n",
      "Found: 0 fitting curves\n",
      "Writing table: candidates_s0_b0_e15_HD_1397_b.fits.csv\n"
     ]
    },
    {
     "ename": "UnboundLocalError",
     "evalue": "local variable 'i' referenced before assignment",
     "output_type": "error",
     "traceback": [
      "\u001b[0;31m-------------------------------------------------------\u001b[0m",
      "\u001b[0;31mUnboundLocalError\u001b[0m     Traceback (most recent call last)",
      "\u001b[0;32m<ipython-input-150-b186a89d1f85>\u001b[0m in \u001b[0;36m<module>\u001b[0;34m\u001b[0m\n\u001b[1;32m      6\u001b[0m \u001b[0moutput_dir\u001b[0m\u001b[0;34m=\u001b[0m \u001b[0;34m\"/home/ctaiudovicic/projects/tess_batman/data/tmp/\"\u001b[0m\u001b[0;34m\u001b[0m\u001b[0;34m\u001b[0m\u001b[0m\n\u001b[1;32m      7\u001b[0m \u001b[0mverbosity\u001b[0m\u001b[0;34m=\u001b[0m\u001b[0;36m0\u001b[0m\u001b[0;34m\u001b[0m\u001b[0;34m\u001b[0m\u001b[0m\n\u001b[0;32m----> 8\u001b[0;31m \u001b[0mtconvolve\u001b[0m\u001b[0;34m(\u001b[0m\u001b[0mtess_dir\u001b[0m\u001b[0;34m,\u001b[0m\u001b[0mbatman_dir\u001b[0m\u001b[0;34m,\u001b[0m \u001b[0msector\u001b[0m\u001b[0;34m,\u001b[0m \u001b[0mstart\u001b[0m\u001b[0;34m,\u001b[0m \u001b[0mend\u001b[0m\u001b[0;34m,\u001b[0m \u001b[0moutput_dir\u001b[0m\u001b[0;34m,\u001b[0m \u001b[0mverbosity\u001b[0m\u001b[0;34m=\u001b[0m\u001b[0;36m0\u001b[0m\u001b[0;34m)\u001b[0m\u001b[0;34m\u001b[0m\u001b[0;34m\u001b[0m\u001b[0m\n\u001b[0m",
      "\u001b[0;32m<ipython-input-149-9f08a762e278>\u001b[0m in \u001b[0;36mtconvolve\u001b[0;34m(tess_dir, batman_dir, sector, start, end, output_dir, verbosity)\u001b[0m\n\u001b[1;32m    119\u001b[0m         \u001b[0mcandidates\u001b[0m\u001b[0;34m.\u001b[0m\u001b[0madd_column\u001b[0m\u001b[0;34m(\u001b[0m\u001b[0mColumn\u001b[0m\u001b[0;34m(\u001b[0m\u001b[0mconvs\u001b[0m\u001b[0;34m)\u001b[0m\u001b[0;34m,\u001b[0m \u001b[0mname\u001b[0m\u001b[0;34m=\u001b[0m\u001b[0;34m\"correlation\"\u001b[0m\u001b[0;34m)\u001b[0m\u001b[0;34m\u001b[0m\u001b[0;34m\u001b[0m\u001b[0m\n\u001b[1;32m    120\u001b[0m \u001b[0;34m\u001b[0m\u001b[0m\n\u001b[0;32m--> 121\u001b[0;31m         \u001b[0mascii\u001b[0m\u001b[0;34m.\u001b[0m\u001b[0mwrite\u001b[0m\u001b[0;34m(\u001b[0m\u001b[0mcandidates\u001b[0m\u001b[0;34m,\u001b[0m \u001b[0moutpath\u001b[0m\u001b[0;34m,\u001b[0m \u001b[0mformat\u001b[0m\u001b[0;34m=\u001b[0m\u001b[0;34m'csv'\u001b[0m\u001b[0;34m,\u001b[0m \u001b[0moverwrite\u001b[0m\u001b[0;34m=\u001b[0m\u001b[0;32mTrue\u001b[0m\u001b[0;34m,\u001b[0m \u001b[0mcomment\u001b[0m\u001b[0;34m=\u001b[0m\u001b[0;34m'#'\u001b[0m\u001b[0;34m)\u001b[0m\u001b[0;34m\u001b[0m\u001b[0;34m\u001b[0m\u001b[0m\n\u001b[0m\u001b[1;32m    122\u001b[0m         \u001b[0mtess_time\u001b[0m \u001b[0;34m=\u001b[0m \u001b[0mtime\u001b[0m\u001b[0;34m.\u001b[0m\u001b[0mtime\u001b[0m\u001b[0;34m(\u001b[0m\u001b[0;34m)\u001b[0m \u001b[0;34m-\u001b[0m \u001b[0mtess_start\u001b[0m\u001b[0;34m\u001b[0m\u001b[0;34m\u001b[0m\u001b[0m\n\u001b[1;32m    123\u001b[0m         \u001b[0mprint\u001b[0m\u001b[0;34m(\u001b[0m\u001b[0;34m\"Finished tess file in {:.3} s\"\u001b[0m\u001b[0;34m.\u001b[0m\u001b[0mformat\u001b[0m\u001b[0;34m(\u001b[0m\u001b[0mtess_time\u001b[0m\u001b[0;34m)\u001b[0m\u001b[0;34m)\u001b[0m\u001b[0;34m\u001b[0m\u001b[0;34m\u001b[0m\u001b[0m\n",
      "\u001b[0;32m~/anaconda3/lib/python3.7/site-packages/astropy/io/ascii/ui.py\u001b[0m in \u001b[0;36mwrite\u001b[0;34m(table, output, format, Writer, fast_writer, overwrite, **kwargs)\u001b[0m\n\u001b[1;32m    910\u001b[0m     \u001b[0mwriter\u001b[0m \u001b[0;34m=\u001b[0m \u001b[0mget_writer\u001b[0m\u001b[0;34m(\u001b[0m\u001b[0mWriter\u001b[0m\u001b[0;34m=\u001b[0m\u001b[0mWriter\u001b[0m\u001b[0;34m,\u001b[0m \u001b[0mfast_writer\u001b[0m\u001b[0;34m=\u001b[0m\u001b[0mfast_writer\u001b[0m\u001b[0;34m,\u001b[0m \u001b[0;34m**\u001b[0m\u001b[0mkwargs\u001b[0m\u001b[0;34m)\u001b[0m\u001b[0;34m\u001b[0m\u001b[0;34m\u001b[0m\u001b[0m\n\u001b[1;32m    911\u001b[0m     \u001b[0;32mif\u001b[0m \u001b[0mwriter\u001b[0m\u001b[0;34m.\u001b[0m\u001b[0m_format_name\u001b[0m \u001b[0;32min\u001b[0m \u001b[0mcore\u001b[0m\u001b[0;34m.\u001b[0m\u001b[0mFAST_CLASSES\u001b[0m\u001b[0;34m:\u001b[0m\u001b[0;34m\u001b[0m\u001b[0;34m\u001b[0m\u001b[0m\n\u001b[0;32m--> 912\u001b[0;31m         \u001b[0mwriter\u001b[0m\u001b[0;34m.\u001b[0m\u001b[0mwrite\u001b[0m\u001b[0;34m(\u001b[0m\u001b[0mtable\u001b[0m\u001b[0;34m,\u001b[0m \u001b[0moutput\u001b[0m\u001b[0;34m)\u001b[0m\u001b[0;34m\u001b[0m\u001b[0;34m\u001b[0m\u001b[0m\n\u001b[0m\u001b[1;32m    913\u001b[0m         \u001b[0;32mreturn\u001b[0m\u001b[0;34m\u001b[0m\u001b[0;34m\u001b[0m\u001b[0m\n\u001b[1;32m    914\u001b[0m \u001b[0;34m\u001b[0m\u001b[0m\n",
      "\u001b[0;32m~/anaconda3/lib/python3.7/site-packages/astropy/io/ascii/fastbasic.py\u001b[0m in \u001b[0;36mwrite\u001b[0;34m(self, table, output)\u001b[0m\n\u001b[1;32m    200\u001b[0m         \u001b[0moutput\u001b[0m \u001b[0mmasked\u001b[0m \u001b[0mvalues\u001b[0m \u001b[0;32mas\u001b[0m \u001b[0mempty\u001b[0m \u001b[0mfields\u001b[0m\u001b[0;34m.\u001b[0m\u001b[0;34m\u001b[0m\u001b[0;34m\u001b[0m\u001b[0m\n\u001b[1;32m    201\u001b[0m         \"\"\"\n\u001b[0;32m--> 202\u001b[0;31m         \u001b[0mself\u001b[0m\u001b[0;34m.\u001b[0m\u001b[0m_write\u001b[0m\u001b[0;34m(\u001b[0m\u001b[0mtable\u001b[0m\u001b[0;34m,\u001b[0m \u001b[0moutput\u001b[0m\u001b[0;34m,\u001b[0m \u001b[0;34m{\u001b[0m\u001b[0;34m'fill_values'\u001b[0m\u001b[0;34m:\u001b[0m \u001b[0;34m[\u001b[0m\u001b[0;34m(\u001b[0m\u001b[0mcore\u001b[0m\u001b[0;34m.\u001b[0m\u001b[0mmasked\u001b[0m\u001b[0;34m,\u001b[0m \u001b[0;34m''\u001b[0m\u001b[0;34m)\u001b[0m\u001b[0;34m]\u001b[0m\u001b[0;34m}\u001b[0m\u001b[0;34m)\u001b[0m\u001b[0;34m\u001b[0m\u001b[0;34m\u001b[0m\u001b[0m\n\u001b[0m\u001b[1;32m    203\u001b[0m \u001b[0;34m\u001b[0m\u001b[0m\n\u001b[1;32m    204\u001b[0m \u001b[0;34m\u001b[0m\u001b[0m\n",
      "\u001b[0;32m~/anaconda3/lib/python3.7/site-packages/astropy/io/ascii/fastbasic.py\u001b[0m in \u001b[0;36m_write\u001b[0;34m(self, table, output, default_kwargs, header_output, output_types)\u001b[0m\n\u001b[1;32m    177\u001b[0m         \u001b[0mwrite_kwargs\u001b[0m\u001b[0;34m.\u001b[0m\u001b[0mupdate\u001b[0m\u001b[0;34m(\u001b[0m\u001b[0mself\u001b[0m\u001b[0;34m.\u001b[0m\u001b[0mkwargs\u001b[0m\u001b[0;34m)\u001b[0m\u001b[0;34m\u001b[0m\u001b[0;34m\u001b[0m\u001b[0m\n\u001b[1;32m    178\u001b[0m         \u001b[0mwriter\u001b[0m \u001b[0;34m=\u001b[0m \u001b[0mcparser\u001b[0m\u001b[0;34m.\u001b[0m\u001b[0mFastWriter\u001b[0m\u001b[0;34m(\u001b[0m\u001b[0mtable\u001b[0m\u001b[0;34m,\u001b[0m \u001b[0;34m**\u001b[0m\u001b[0mwrite_kwargs\u001b[0m\u001b[0;34m)\u001b[0m\u001b[0;34m\u001b[0m\u001b[0;34m\u001b[0m\u001b[0m\n\u001b[0;32m--> 179\u001b[0;31m         \u001b[0mwriter\u001b[0m\u001b[0;34m.\u001b[0m\u001b[0mwrite\u001b[0m\u001b[0;34m(\u001b[0m\u001b[0moutput\u001b[0m\u001b[0;34m,\u001b[0m \u001b[0mheader_output\u001b[0m\u001b[0;34m,\u001b[0m \u001b[0moutput_types\u001b[0m\u001b[0;34m)\u001b[0m\u001b[0;34m\u001b[0m\u001b[0;34m\u001b[0m\u001b[0m\n\u001b[0m\u001b[1;32m    180\u001b[0m \u001b[0;34m\u001b[0m\u001b[0m\n\u001b[1;32m    181\u001b[0m \u001b[0;34m\u001b[0m\u001b[0m\n",
      "\u001b[0;32mastropy/io/ascii/cparser.pyx\u001b[0m in \u001b[0;36mastropy.io.ascii.cparser.FastWriter.write\u001b[0;34m()\u001b[0m\n",
      "\u001b[0;31mUnboundLocalError\u001b[0m: local variable 'i' referenced before assignment"
     ]
    }
   ],
   "source": [
    "tess_dir=\"/home/ctaiudovicic/projects/tess_batman/sampleData/\"\n",
    "batman_dir=\"/home/ctaiudovicic/projects/tess_batman/data/\"\n",
    "sector=0\n",
    "start=0\n",
    "end=15\n",
    "output_dir= \"/home/ctaiudovicic/projects/tess_batman/data/tmp/\"\n",
    "verbosity=0\n",
    "tconvolve(tess_dir,batman_dir, sector, start, end, output_dir, verbosity=0)\n"
   ]
  },
  {
   "cell_type": "code",
   "execution_count": 147,
   "metadata": {},
   "outputs": [
    {
     "data": {
      "text/plain": [
       "[<matplotlib.lines.Line2D at 0x7f28d71072b0>]"
      ]
     },
     "execution_count": 147,
     "metadata": {},
     "output_type": "execute_result"
    },
    {
     "data": {
      "image/png": "[encoded data removed]",
      "text/plain": [
       "<Figure size 432x288 with 1 Axes>"
      ]
     },
     "metadata": {
      "needs_background": "light"
     },
     "output_type": "display_data"
    }
   ],
   "source": [
    "import matplotlib.pyplot as plt\n",
    "plt.plot(arr)"
   ]
  },
  {
   "cell_type": "code",
   "execution_count": 137,
   "metadata": {},
   "outputs": [
    {
     "name": "stdout",
     "output_type": "stream",
     "text": [
      "Reading TESS data...\n",
      "Found 10 TESS files to process\n",
      "Reading Batman transit curves...\n",
      "Found 2560 Batman curves\n",
      "Starting TESS file: HD_1397_b.fits\n",
      "Starting convolutions...\n"
     ]
    }
   ],
   "source": [
    "# Read in TESS Sector data\n",
    "print(\"Reading TESS data...\")\n",
    "sector_name = \"Sector{}\".format(sector)\n",
    "if sector == 0:\n",
    "    sector_name = \"sample_\"+sector_name\n",
    "sector_path = p.join(tess_dir, sector_name)\n",
    "sector_files = glob.glob(p.join(sector_path,\"*.fits\"))\n",
    "tess_names = sector_files[start:end]\n",
    "ntess = len(tess_names)\n",
    "print(\"Found {} TESS files to process\".format(ntess))\n",
    "\n",
    "# Read in Batman Curves \n",
    "print(\"Reading Batman transit curves...\")\n",
    "batmanCurves = ascii.read(p.join(batman_dir,\"batmanCurves_small.csv\"), \n",
    "                   data_start=1, format='csv')\n",
    "times = np.array(batmanCurves['times'])\n",
    "curve_names = np.array(batmanCurves.colnames[1:])\n",
    "nbatman = len(curve_names)\n",
    "print(\"Found {} Batman curves\".format(nbatman))\n",
    "\n",
    "nerr = 0  # count number of failed files\n",
    "# Do convolution on all tess files\n",
    "tess_fpath = tess_names[0]\n",
    "tess_fname = p.basename(tess_fpath)\n",
    "print(\"Starting TESS file: {}\".format(tess_fname))\n",
    "tess_start = time.time()\n",
    "\n",
    "try:\n",
    "    with fits.open(tess_fpath, mode=\"readonly\") as hdulist:\n",
    "        hdr = hdulist[0].header\n",
    "        tess_time = hdulist[1].data['TIME']\n",
    "        tess_flux = hdulist[1].data['PDCSAP_FLUX']\n",
    "except Exception as e: \n",
    "    print(\"ERROR reading file: \", tess_fpath, \" with error: \", e)\n",
    "    nerr += 1\n",
    "    #continue  # skip to next loop iter\n",
    "\n",
    "# clean tess lightcurve of nans\n",
    "med = np.nanmedian(tess_flux)\n",
    "tess_flux[np.isnan(tess_flux)] = med\n",
    "\n",
    "tmean = np.mean(tess_flux)\n",
    "tstd = np.std(tess_flux)\n",
    "tess_flux = (tess_flux - tmean)/tstd\n",
    "# Do convolution on each batman curve\n",
    "max_array=np.zeros(nbatman)\n",
    "tmax_array=np.zeros(nbatman)\n",
    "conv_start = time.time()\n",
    "print(\"Starting convolutions...\")\n",
    "j = 0\n",
    "curvename = curve_names[0]\n",
    "\n",
    "batman_flux = batmanCurves[curvename]\n",
    "convolution = np.convolve(tess_flux, batman_flux, 'same')"
   ]
  },
  {
   "cell_type": "code",
   "execution_count": 139,
   "metadata": {},
   "outputs": [
    {
     "data": {
      "text/plain": [
       "[<matplotlib.lines.Line2D at 0x7f28e407dba8>]"
      ]
     },
     "execution_count": 139,
     "metadata": {},
     "output_type": "execute_result"
    },
    {
     "data": {
      "image/png": "[encoded data removed]",
      "text/plain": [
       "<Figure size 432x288 with 1 Axes>"
      ]
     },
     "metadata": {
      "needs_background": "light"
     },
     "output_type": "display_data"
    }
   ],
   "source": [
    "plt.plot(tess_time,convolution, 'b+')"
   ]
  },
  {
   "cell_type": "code",
   "execution_count": 98,
   "metadata": {},
   "outputs": [
    {
     "name": "stdout",
     "output_type": "stream",
     "text": [
      "6034 1333.6779213298512 82803366.2285856\n"
     ]
    }
   ],
   "source": [
    "ind_max = np.argmax(convolution)\n",
    "tmax = tess_time[ind_max]\n",
    "cmax = convolution[ind_max]\n",
    "print(ind_max, tmax, cmax)"
   ]
  }
 ],
 "metadata": {
  "kernelspec": {
   "display_name": "Python 3",
   "language": "python",
   "name": "python3"
  },
  "language_info": {
   "codemirror_mode": {
    "name": "ipython",
    "version": 3
   },
   "file_extension": ".py",
   "mimetype": "text/x-python",
   "name": "python",
   "nbconvert_exporter": "python",
   "pygments_lexer": "ipython3",
   "version": "3.7.1"
  }
 },
 "nbformat": 4,
 "nbformat_minor": 2
}
